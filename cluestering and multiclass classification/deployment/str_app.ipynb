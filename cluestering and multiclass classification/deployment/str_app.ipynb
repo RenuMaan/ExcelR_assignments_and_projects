{
 "cells": [
  {
   "cell_type": "code",
   "execution_count": 2,
   "id": "6df274be",
   "metadata": {},
   "outputs": [
    {
     "name": "stderr",
     "output_type": "stream",
     "text": [
      "2023-11-18 10:34:04.900 \n",
      "  \u001b[33m\u001b[1mWarning:\u001b[0m to view this Streamlit app on a browser, run it with the following\n",
      "  command:\n",
      "\n",
      "    streamlit run C:\\Users\\Renu\\anaconda3\\lib\\site-packages\\ipykernel_launcher.py [ARGUMENTS]\n"
     ]
    }
   ],
   "source": [
    "#!/usr/bin/env python\n",
    "# coding: utf-8\n",
    "\n",
    "# In[1]:\n",
    "\n",
    "\n",
    "import pandas as pd\n",
    "import numpy as np\n",
    "import streamlit as st \n",
    "import warnings\n",
    "warnings.filterwarnings('ignore')\n",
    "import os\n",
    "\n",
    "\n",
    "# In[26]:\n",
    "os.chdir(r\"C:\\Users\\Renu\\Downloads\\P302\\deployment\")\n",
    "st.title(\":blue[Project 302: World development data]\")\n",
    "st.sidebar.header('User Input Parameters')\n",
    "\n",
    "def user_input_features():\n",
    "    Birth_Rate = st.sidebar.number_input(\"Birth Rate: between 0.007 and 0.053 \")\n",
    "    CO2_Emissions = st.sidebar.number_input('co2 emission: value 7million to 8.3 million')\n",
    "    GDP = st.sidebar.number_input(\"GDP:63.1m to 16 trillion\")\n",
    "    Health_Exp_GDP = st.sidebar.number_input('Health Exp GDP % :value 0.008 to 0.225')\n",
    "    Health_Exp_Capita = st.sidebar.number_input('Health Exp/Capita: value 2 to 9908')\n",
    "    Infant_Mortality_Rate = st.sidebar.number_input('Infant Mortality Rate: value 0.002 to 0.141')\n",
    "    Internet_Usage = st.sidebar.number_input('Internet Usage; value 0 to 1')\n",
    "    Mobile_Usage = st.sidebar.number_input('Mobile Phone Usage:value 0 to 2.9')\n",
    "    Population_Total = st.sidebar.number_input('Population Total:value 18876 to 1 billion')\n",
    "    Population_Urban = st.sidebar.number_input('Population Urban: value 0.082 to 1')\n",
    "    Tourism_Inbound= st.sidebar.number_input('Tourism Inbound: value 700,000 to 200 billions')\n",
    "    Tourism_Outbound = st.sidebar.number_input('Tourism Outbound: 200,000 to 126 billions')\n",
    "    life_expectancy = st.sidebar.number_input('life expectancy: value 37 to 88')\n",
    "\n",
    "\n",
    "\n",
    "    data = {'Birth Rate':Birth_Rate,'CO2 Emissions':CO2_Emissions,'GDP':GDP,'Health Exp GDP':Health_Exp_GDP, \n",
    "            'Health Exp Capita':Health_Exp_Capita,'Infant Mortality Rate':Infant_Mortality_Rate,\n",
    "            'Internet Usage':Internet_Usage,'Mobile Phone Usage': Mobile_Usage,\n",
    "            'Population Total':Population_Total,'Population Urban':Population_Urban,\n",
    "            'Tourism Inbound':Tourism_Inbound,'Tourism Outbound':Tourism_Outbound,'life_expectancy':life_expectancy}\n",
    "\n",
    "    \n",
    "    features = pd.DataFrame(data,index = [0])\n",
    "    return features \n",
    "\n",
    "\n",
    "# In[27]:\n",
    "\n",
    "\n",
    "df_in = user_input_features()\n",
    "st.subheader('Input parameters')\n",
    "st.write(df_in)\n",
    "\n",
    "\n",
    "st.subheader('Prediction')\n",
    "\n",
    "import pickle\n",
    "if df_in.values[0].sum()==0:\n",
    "    st.write(\":orange[Inputs not given]\")\n",
    "else:   \n",
    "    model = pickle.load(open('models\\model.pkl','rb'))\n",
    "    prediction = model.predict(df_in)\n",
    "    st.write(prediction)\n",
    "\n"
   ]
  },
  {
   "cell_type": "code",
   "execution_count": null,
   "id": "f76034f4",
   "metadata": {},
   "outputs": [],
   "source": []
  }
 ],
 "metadata": {
  "kernelspec": {
   "display_name": "Python 3 (ipykernel)",
   "language": "python",
   "name": "python3"
  },
  "language_info": {
   "codemirror_mode": {
    "name": "ipython",
    "version": 3
   },
   "file_extension": ".py",
   "mimetype": "text/x-python",
   "name": "python",
   "nbconvert_exporter": "python",
   "pygments_lexer": "ipython3",
   "version": "3.9.13"
  }
 },
 "nbformat": 4,
 "nbformat_minor": 5
}
